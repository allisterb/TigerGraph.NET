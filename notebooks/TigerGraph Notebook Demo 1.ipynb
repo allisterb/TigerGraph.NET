{
 "cells": [
  {
   "cell_type": "code",
   "execution_count": 5,
   "metadata": {},
   "outputs": [
    {
     "data": {
      "text/html": [
       "Installing package TigerGraph.NET..done!"
      ]
     },
     "metadata": {},
     "output_type": "display_data"
    },
    {
     "data": {
      "text/html": [
       "Successfully added reference to package TigerGraph.NET, version 0.1.0"
      ]
     },
     "metadata": {},
     "output_type": "display_data"
    }
   ],
   "source": [
    "#r \"nuget:TigerGraph.NET\" \n",
    "using TigerGraph;\n",
    "\n",
    "ApiClient.SetDefaultLoggerIfNone();"
   ]
  },
  {
   "cell_type": "code",
   "execution_count": 6,
   "metadata": {},
   "outputs": [
    {
     "name": "stdout",
     "output_type": "stream",
     "text": [
      "Initialized REST++ client for https://fss.i.tgcloud.io:9000/ and GSQL client for https://fss.i.tgcloud.io:14240/.\n",
      "Initialized REST++ client authentication using specified token.\n",
      "Initialized GSQL client authentication using specified name and password.\n",
      "HTTP GET:https://fss.i.tgcloud.io:9000/echo\n",
      "JSON response: {\"error\":false, \"message\":\"Hello GSQL\"}\n",
      "Complete.\n"
     ]
    }
   ],
   "source": [
    "var c = new ApiClient();\n",
    "\n",
    "await c.Echo();"
   ]
  },
  {
   "cell_type": "code",
   "execution_count": null,
   "metadata": {},
   "outputs": [],
   "source": []
  }
 ],
 "metadata": {
  "kernelspec": {
   "display_name": ".NET (C#)",
   "language": "C#",
   "name": ".net-csharp"
  },
  "language_info": {
   "file_extension": ".cs",
   "mimetype": "text/x-csharp",
   "name": "C#",
   "pygments_lexer": "csharp",
   "version": "8.0"
  }
 },
 "nbformat": 4,
 "nbformat_minor": 2
}
