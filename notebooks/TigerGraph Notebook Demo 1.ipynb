{
 "cells": [
  {
   "cell_type": "code",
   "execution_count": 1,
   "metadata": {},
   "outputs": [
    {
     "data": {
      "text/html": [
       "Installing package TigerGraph.Lib................done!"
      ]
     },
     "metadata": {},
     "output_type": "display_data"
    },
    {
     "data": {
      "text/html": [
       "Failed to add reference to package TigerGraph.Lib"
      ]
     },
     "metadata": {},
     "output_type": "display_data"
    },
    {
     "data": {
      "text/html": [
       "<table><thead><tr><th><i>index</i></th><th>value</th></tr></thead><tbody><tr><td>0</td><td>error: Unable to find a stable package TigerGraph.Lib with version </td></tr><tr><td>1</td><td>error:   - Found 1 version(s) in nuget.org [ Nearest version: 0.1.0-alpha ]</td></tr><tr><td>2</td><td>error:   - Found 0 version(s) in Microsoft Visual Studio Offline Packages</td></tr><tr><td>3</td><td>error: Package &#39;TigerGraph.Lib&#39; is incompatible with &#39;all&#39; frameworks in project &#39;C:\\Users\\Allister\\.trydotnet\\packages\\43d1e8d3d2f14bf4ae26610f022a6803\\43d1e8d3d2f14bf4ae26610f022a6803.csproj&#39;.</td></tr></tbody></table>"
      ]
     },
     "metadata": {},
     "output_type": "display_data"
    },
    {
     "ename": "Unhandled Exception",
     "evalue": "(2,7): error CS0246: The type or namespace name 'TigerGraph' could not be found (are you missing a using directive or an assembly reference?)",
     "output_type": "error",
     "traceback": [
      "(2,7): error CS0246: The type or namespace name 'TigerGraph' could not be found (are you missing a using directive or an assembly reference?)"
     ]
    }
   ],
   "source": [
    "#r \"nuget:TigerGraph.NET\"\n",
    "    \n",
    "using TigerGraph;"
   ]
  },
  {
   "cell_type": "code",
   "execution_count": null,
   "metadata": {},
   "outputs": [],
   "source": []
  }
 ],
 "metadata": {
  "kernelspec": {
   "display_name": ".NET (C#)",
   "language": "C#",
   "name": ".net-csharp"
  },
  "language_info": {
   "file_extension": ".cs",
   "mimetype": "text/x-csharp",
   "name": "C#",
   "pygments_lexer": "csharp",
   "version": "8.0"
  }
 },
 "nbformat": 4,
 "nbformat_minor": 2
}
